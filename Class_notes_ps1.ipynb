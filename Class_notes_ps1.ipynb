{
 "cells": [
  {
   "cell_type": "markdown",
   "metadata": {},
   "source": [
    "# Class Notes"
   ]
  },
  {
   "cell_type": "markdown",
   "metadata": {},
   "source": [
    "## Optimization Problems - knapback"
   ]
  },
  {
   "cell_type": "markdown",
   "metadata": {},
   "source": [
    "- You have limited space and weight to carry;\n",
    "- Several objetics you can put inside your knapback; and\n",
    "- How to carry the maximum value inside the knapback."
   ]
  },
  {
   "cell_type": "markdown",
   "metadata": {},
   "source": [
    "## How to modeled"
   ]
  },
  {
   "cell_type": "markdown",
   "metadata": {},
   "source": [
    "- Each item is modelled by a pair <value,weight>;\n",
    "- A vector L indicate the elements available;\n",
    "- A vector V indicate the elements I choose to carry inside de knapback;"
   ]
  },
  {
   "cell_type": "markdown",
   "metadata": {},
   "source": [
    "$$ \\sum V[i]*I[i]_{value} = total_{value}$$\n",
    "$$ \\sum V[i]*I[i]_{weight} \\leq total_{weight} $$"
   ]
  },
  {
   "cell_type": "markdown",
   "metadata": {},
   "source": [
    "- Brute Force rapidly exceeds than computational capacity: O(aˆN);\n",
    "- There is no perfect solution for a general problem."
   ]
  },
  {
   "cell_type": "markdown",
   "metadata": {},
   "source": [
    "## Greedy Algorithm"
   ]
  },
  {
   "cell_type": "markdown",
   "metadata": {},
   "source": [
    "The Greedy Algorithm works by choosing the best item first, then the next best and continue until he reached his limit.\n",
    "\n",
    "The problem is how to decide what the \"best\" should be?"
   ]
  },
  {
   "cell_type": "markdown",
   "metadata": {},
   "source": [
    "Greedy's pseudocode:\n",
    "\n",
    "- Choose a Key Function;\n",
    "- evaluate all of your options; \n",
    "- sort them based on key function; and  \n",
    "- try increment your solution in sorted sequence without disrespect any constraints."
   ]
  },
  {
   "cell_type": "markdown",
   "metadata": {},
   "source": [
    "Follow the example of John Guttag of his book:"
   ]
  },
  {
   "cell_type": "code",
   "execution_count": 2,
   "metadata": {},
   "outputs": [],
   "source": [
    "class Item(object):\n",
    "    \"\"\" This class define an item to be stole.\n",
    "\n",
    "    Args:\n",
    "        None\n",
    "\n",
    "    Atributes:\n",
    "        Has a value; and\n",
    "        has a weight.\n",
    "\n",
    "    Methods:\n",
    "        getName -> str\n",
    "        getValue -> int\n",
    "        getWeight -> int\n",
    "\n",
    "    \"\"\"\n",
    "    def __init__(self, n, v, w):\n",
    "        self.name = n \n",
    "        self.value = v \n",
    "        self.weight = w\n",
    "        \n",
    "    def getName(self): \n",
    "        return self.name\n",
    "    \n",
    "    def getValue(self): \n",
    "        return self.value\n",
    "    \n",
    "    def getWeight(self): \n",
    "        return self.weight\n",
    "    \n",
    "    def __str__(self):\n",
    "        result = '<' + self.name + ', ' + str(self.value)\\\n",
    "                + ', ' + str(self.weight) + '>' \n",
    "        return result\n",
    "    \n",
    "def value(item):\n",
    "    return item.getValue()\n",
    "\n",
    "def weightInverse(item):\n",
    "    return 1.0/item.getWeight()\n",
    "\n",
    "def density(item):\n",
    "    return item.getValue()/item.getWeight()\n"
   ]
  },
  {
   "cell_type": "code",
   "execution_count": 4,
   "metadata": {},
   "outputs": [],
   "source": [
    "def greedy(items, maxWeight, keyFunction): \n",
    "    \"\"\"Assumes Items a list, maxWeight >= 0, keyFunction maps elements of Items to numbers\n",
    "    \"\"\" \n",
    "    itemsCopy = sorted(items, key=keyFunction, reverse = True) \n",
    "    result = []\n",
    "    totalValue, totalWeight = 0.0, 0.0\n",
    "    for i in range(len(itemsCopy)):\n",
    "        if (totalWeight + itemsCopy[i].getWeight()) <= maxWeight: \n",
    "            result.append(itemsCopy[i])\n",
    "            totalWeight += itemsCopy[i].getWeight()\n",
    "            totalValue += itemsCopy[i].getValue()\n",
    "    return (result, totalValue)"
   ]
  },
  {
   "cell_type": "code",
   "execution_count": 6,
   "metadata": {},
   "outputs": [],
   "source": [
    "def buildItems():\n",
    "    names = ['clock','painting','radio','vase','book','computer'] \n",
    "    values = [175,90,20,50,10,200]\n",
    "    weights = [10,9,4,2,1,20]\n",
    "    Items = []\n",
    "    for i in range(len(values)):\n",
    "        Items.append(Item(names[i], values[i], weights[i])) \n",
    "    return Items\n",
    "\n",
    "def testGreedy(items, maxWeight, keyFunction):\n",
    "    taken, val = greedy(items, maxWeight, keyFunction)\n",
    "    print('Total value of items taken is', val)\n",
    "    for item in taken:\n",
    "        print(' ', item)\n",
    "            \n",
    "def testGreedys(maxWeight = 20):\n",
    "    items = buildItems()\n",
    "    print('Use greedy by value to fill knapsack of size', maxWeight) \n",
    "    testGreedy(items, maxWeight, value)\n",
    "    print('\\nUse greedy by weight to fill knapsack of size',maxWeight)\n",
    "    testGreedy(items, maxWeight, weightInverse)\n",
    "    print('\\nUse greedy by density to fill knapsack of size',maxWeight)\n",
    "    testGreedy(items, maxWeight, density)"
   ]
  },
  {
   "cell_type": "code",
   "execution_count": 8,
   "metadata": {
    "scrolled": true
   },
   "outputs": [
    {
     "name": "stdout",
     "output_type": "stream",
     "text": [
      "Use greedy by value to fill knapsack of size 20\n",
      "Total value of items taken is 200.0\n",
      "  <computer, 200, 20>\n",
      "\n",
      "Use greedy by weight to fill knapsack of size 20\n",
      "Total value of items taken is 170.0\n",
      "  <book, 10, 1>\n",
      "  <vase, 50, 2>\n",
      "  <radio, 20, 4>\n",
      "  <painting, 90, 9>\n",
      "\n",
      "Use greedy by density to fill knapsack of size 20\n",
      "Total value of items taken is 255.0\n",
      "  <vase, 50, 2>\n",
      "  <clock, 175, 10>\n",
      "  <book, 10, 1>\n",
      "  <radio, 20, 4>\n"
     ]
    }
   ],
   "source": [
    "testGreedys(20)"
   ]
  },
  {
   "cell_type": "markdown",
   "metadata": {},
   "source": [
    "Also, let's try some brute force..."
   ]
  },
  {
   "cell_type": "code",
   "execution_count": 9,
   "metadata": {},
   "outputs": [],
   "source": [
    "def chooseBest(pset, maxWeight, getVal, getWeight):\n",
    "    bestVal = 0.0\n",
    "    bestSet = None\n",
    "    for items in pset: \n",
    "        itemsVal = 0.0\n",
    "        itemsWeight = 0.0 \n",
    "        for item in items:\n",
    "            itemsVal += getVal(item)\n",
    "            itemsWeight += getWeight(item)\n",
    "        if itemsWeight <= maxWeight and itemsVal > bestVal:\n",
    "            bestVal = itemsVal\n",
    "            bestSet = items \n",
    "    return (bestSet, bestVal)\n",
    "\n",
    "def testBest(maxWeight = 20):\n",
    "    items = buildItems()\n",
    "    pset = genPowerset(items)\n",
    "    taken, val = chooseBest(pset, maxWeight, Item.getValue,Item.getWeight) \n",
    "    print('Total value of items taken is', val)\n",
    "    for item in taken: \n",
    "        print(item)\n",
    "        \n",
    "def genPowerset(items, constraint,getVal,getWeight):\n",
    "    \"\"\"Enumerate all possible combinations\n",
    "    \n",
    "    \"\"\"\n",
    "    return pass\n",
    "    "
   ]
  },
  {
   "cell_type": "markdown",
   "metadata": {},
   "source": [
    "The complexity of algorithm above is O($ n. 2ˆ{n} $). \n",
    "\n",
    "\"The essence of a greedy algorithm is making the __best__ (as de- fined by some metric) local choice at each step. It makes a choice that is __locally optimal__. However, as this example illustrates, __a series of locally optimal decisions does not always lead to a solution that is globally optimal__\". John Guttag's book.\n",
    "\n",
    "The not optimum solution is due to the fact the problem has an integer dominium. If the problem dominium is continuous, there are cases that Greedy can provide global solution, but there are math requeriments for the cost (or revenue) function."
   ]
  },
  {
   "cell_type": "markdown",
   "metadata": {},
   "source": [
    "## Search Tree"
   ]
  },
  {
   "cell_type": "code",
   "execution_count": null,
   "metadata": {},
   "outputs": [],
   "source": []
  }
 ],
 "metadata": {
  "kernelspec": {
   "display_name": "Python 3",
   "language": "python",
   "name": "python3"
  },
  "language_info": {
   "codemirror_mode": {
    "name": "ipython",
    "version": 3
   },
   "file_extension": ".py",
   "mimetype": "text/x-python",
   "name": "python",
   "nbconvert_exporter": "python",
   "pygments_lexer": "ipython3",
   "version": "3.6.9"
  }
 },
 "nbformat": 4,
 "nbformat_minor": 2
}
